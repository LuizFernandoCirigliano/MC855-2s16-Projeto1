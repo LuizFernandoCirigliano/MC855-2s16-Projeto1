{
 "cells": [
  {
   "cell_type": "markdown",
   "metadata": {},
   "source": [
    "# Choose Paragraphs"
   ]
  },
  {
   "cell_type": "code",
   "execution_count": 87,
   "metadata": {
    "collapsed": false
   },
   "outputs": [],
   "source": [
    "import math\n",
    "import codecs\n",
    "\n",
    "# define globals\n",
    "\n",
    "# choose paragraphs and sum them up until you reach a minimumScore - empirical\n",
    "minimumScore = 0.02\n",
    "\n",
    "sortedParFilename = 'Output/defesa-impeachment-29-08-2016'"
   ]
  },
  {
   "cell_type": "code",
   "execution_count": 88,
   "metadata": {
    "collapsed": false
   },
   "outputs": [],
   "source": [
    "def chooseTopParagraphs(sortedParFilename):\n",
    "    '''\n",
    "    @param sortedParFilename: name of text file with output (paragraph \\t score)\n",
    "    @returns: list of strings with top paragraphs until minimumScore is reached\n",
    "    '''\n",
    "    currentScore = 0\n",
    "    result1 = []\n",
    "    with codecs.open(sortedParFilename, 'r', encoding='utf-8') as f:\n",
    "        for par in f.readlines():\n",
    "            kv = par.split('\\t')\n",
    "            if len(kv) == 2:\n",
    "                score = float(kv[0])\n",
    "                if not math.isnan(score):\n",
    "                    result1.append(kv[1][:-1].split(' ', 1))\n",
    "                    currentScore += float(kv[0])\n",
    "                    if currentScore > minimumScore:\n",
    "                        break\n",
    "                        \n",
    "#   and now sort based on paragraph position on original text\n",
    "    \n",
    "    return sorted(result1, key = lambda x: x[0])\n",
    "\n",
    "def sortAndChooseTop(ParFilename):\n",
    "    '''\n",
    "    @param ParFilename: name of unsorted text file with output (paragraph \\t score)\n",
    "    @returns: list of strings with top paragraphs in order until minimumScore is reached\n",
    "    '''\n",
    "    parList = []\n",
    "    count = 0\n",
    "    with codecs.open(ParFilename, 'r', encoding='utf-8') as f:\n",
    "        for par in f.readlines():\n",
    "            kv = par.split('\\t')\n",
    "            if len(kv) == 2:\n",
    "                score = float(kv[1][:-1])                \n",
    "                if not math.isnan(score):\n",
    "                    parList.append((count, kv[0], float(kv[1][:-1])))\n",
    "                    count += 1\n",
    "\n",
    "    sortedParList = sorted(parList, key = lambda x: x[2], reverse = True)\n",
    "\n",
    "    auxResult = []\n",
    "    currentScore = 0\n",
    "    for pos, par, score in sortedParList:\n",
    "        auxResult.append((pos, par))\n",
    "        currentScore += score\n",
    "        if currentScore > minimumScore:\n",
    "            break\n",
    "            \n",
    "    result = sorted(auxResult, key = lambda x: x[0])\n",
    "    \n",
    "    return [i[1] for i in result]"
   ]
  },
  {
   "cell_type": "code",
   "execution_count": 89,
   "metadata": {
    "collapsed": false
   },
   "outputs": [],
   "source": [
    "r = chooseTopParagraphs(sortedParFilename)"
   ]
  },
  {
   "cell_type": "code",
   "execution_count": 90,
   "metadata": {
    "collapsed": false
   },
   "outputs": [
    {
     "name": "stdout",
     "output_type": "stream",
     "text": [
      "Peço: votem contra o impeachment. Votem pela democracia.\n",
      "Hoje o Brasil, o mundo e a história nos observam e aguardam o desfecho deste processo de impeachment.\n",
      "O que está em jogo no processo de impeachment não é apenas o meu mandato. O que está em jogo é o respeito às urnas, à vontade soberana do povo brasileiro e à Constituição.\n",
      "A possibilidade de impeachment tornou-se assunto central da pauta política e jornalística apenas dois meses após minha reeleição, apesar da evidente improcedência dos motivos para justificar esse movimento radical.\n",
      "Foi criado assim o desejado ambiente de instabilidade política, propício a abertura do processo de impeachment sem crime de responsabilidade.\n"
     ]
    }
   ],
   "source": [
    "for r1 in r:\n",
    "    print r1[1]"
   ]
  },
  {
   "cell_type": "code",
   "execution_count": null,
   "metadata": {
    "collapsed": true
   },
   "outputs": [],
   "source": []
  },
  {
   "cell_type": "code",
   "execution_count": null,
   "metadata": {
    "collapsed": true
   },
   "outputs": [],
   "source": []
  }
 ],
 "metadata": {
  "kernelspec": {
   "display_name": "Python 2",
   "language": "python",
   "name": "python2"
  },
  "language_info": {
   "codemirror_mode": {
    "name": "ipython",
    "version": 2
   },
   "file_extension": ".py",
   "mimetype": "text/x-python",
   "name": "python",
   "nbconvert_exporter": "python",
   "pygments_lexer": "ipython2",
   "version": "2.7.6"
  }
 },
 "nbformat": 4,
 "nbformat_minor": 1
}
