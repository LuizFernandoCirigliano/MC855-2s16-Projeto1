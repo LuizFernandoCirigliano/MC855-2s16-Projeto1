{
 "cells": [
  {
   "cell_type": "markdown",
   "metadata": {},
   "source": [
    "# Choose Paragraphs"
   ]
  },
  {
   "cell_type": "code",
   "execution_count": 1,
   "metadata": {
    "collapsed": false
   },
   "outputs": [],
   "source": [
    "import math\n",
    "import codecs\n",
    "\n",
    "# define globals\n",
    "\n",
    "# choose paragraphs and sum them up until you reach a minimumScore\n",
    "minimumScore = 0.00005\n",
    "\n",
    "sortedParFilename = 'output.txt'"
   ]
  },
  {
   "cell_type": "code",
   "execution_count": 8,
   "metadata": {
    "collapsed": false
   },
   "outputs": [],
   "source": [
    "def chooseTopParagraphs(sortedParFilename):\n",
    "    '''\n",
    "    @param sortedParFilename: name of text file with output (paragraph \\t score)\n",
    "    @returns: list of strings with top paragraphs until minimumScore is reached\n",
    "    '''\n",
    "    currentScore = 0\n",
    "    result = []\n",
    "    with codecs.open(sortedParFilename, 'r', encoding='utf-8') as f:\n",
    "        for par in f.readlines():\n",
    "            kv = par.split('\\t')\n",
    "            if len(kv) == 2:\n",
    "                score = float(kv[1][:-1])\n",
    "                if not math.isnan(score):\n",
    "                    result.append(kv[0])\n",
    "                    currentScore += float(kv[1][:-1])\n",
    "                    if currentScore > minimumScore:\n",
    "                        break\n",
    "    return result"
   ]
  },
  {
   "cell_type": "code",
   "execution_count": 9,
   "metadata": {
    "collapsed": false
   },
   "outputs": [
    {
     "name": "stdout",
     "output_type": "stream",
     "text": [
      "2.07466122049e-05\n",
      "0.000257646000924\n"
     ]
    }
   ],
   "source": [
    "r = chooseTopParagraphs(sortedParFilename)"
   ]
  },
  {
   "cell_type": "code",
   "execution_count": 14,
   "metadata": {
    "collapsed": false
   },
   "outputs": [
    {
     "name": "stdout",
     "output_type": "stream",
     "text": [
      "Senhoras e Senhores,\n",
      "Para o Brasil – que tem a honra e o privilégio de abrir este debate – é grande a satisfação de ver na Presidência desta Sessão da Assembleia Geral um filho da África.  Os brasileiros, somos ligados por laços históricos, culturais e de amizade ao continente africano, cuja contribuição foi e é decisiva para a construção da identidade nacional de meu país.\n"
     ]
    }
   ],
   "source": [
    "for r1 in r:\n",
    "    print r1\n",
    "# print 'Flávio'"
   ]
  },
  {
   "cell_type": "code",
   "execution_count": null,
   "metadata": {
    "collapsed": true
   },
   "outputs": [],
   "source": []
  },
  {
   "cell_type": "code",
   "execution_count": null,
   "metadata": {
    "collapsed": true
   },
   "outputs": [],
   "source": []
  },
  {
   "cell_type": "code",
   "execution_count": null,
   "metadata": {
    "collapsed": true
   },
   "outputs": [],
   "source": []
  },
  {
   "cell_type": "code",
   "execution_count": null,
   "metadata": {
    "collapsed": true
   },
   "outputs": [],
   "source": []
  }
 ],
 "metadata": {
  "kernelspec": {
   "display_name": "Python 2",
   "language": "python",
   "name": "python2"
  },
  "language_info": {
   "codemirror_mode": {
    "name": "ipython",
    "version": 2
   },
   "file_extension": ".py",
   "mimetype": "text/x-python",
   "name": "python",
   "nbconvert_exporter": "python",
   "pygments_lexer": "ipython2",
   "version": "2.7.11"
  }
 },
 "nbformat": 4,
 "nbformat_minor": 1
}
