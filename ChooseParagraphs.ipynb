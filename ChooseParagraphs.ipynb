{
 "cells": [
  {
   "cell_type": "markdown",
   "metadata": {},
   "source": [
    "# Choose Paragraphs"
   ]
  },
  {
   "cell_type": "code",
   "execution_count": 16,
   "metadata": {
    "collapsed": false
   },
   "outputs": [],
   "source": [
    "import math\n",
    "import codecs\n",
    "\n",
    "# define globals\n",
    "\n",
    "# choose paragraphs and sum them up until you reach a minimumScore\n",
    "minimumScore = 0.005\n",
    "\n",
    "ParFilename = 'output.txt'"
   ]
  },
  {
   "cell_type": "code",
   "execution_count": 20,
   "metadata": {
    "collapsed": false
   },
   "outputs": [],
   "source": [
    "def chooseTopParagraphs(sortedParFilename):\n",
    "    '''\n",
    "    @param sortedParFilename: name of text file with output (paragraph \\t score)\n",
    "    @returns: list of strings with top paragraphs until minimumScore is reached\n",
    "    '''\n",
    "    currentScore = 0\n",
    "    result = []\n",
    "    with codecs.open(sortedParFilename, 'r', encoding='utf-8') as f:\n",
    "        for par in f.readlines():\n",
    "            kv = par.split('\\t')\n",
    "            if len(kv) == 2:\n",
    "                score = float(kv[1][:-1])\n",
    "                if not math.isnan(score):\n",
    "                    result.append(kv[0])\n",
    "                    currentScore += float(kv[1][:-1])\n",
    "                    if currentScore > minimumScore:\n",
    "                        break\n",
    "    return result\n",
    "\n",
    "def sortAndChooseTop(ParFilename):\n",
    "    '''\n",
    "    @param ParFilename: name of unsorted text file with output (paragraph \\t score)\n",
    "    @returns: list of strings with top paragraphs in order until minimumScore is reached\n",
    "    '''\n",
    "    parList = []\n",
    "    count = 0\n",
    "    with codecs.open(ParFilename, 'r', encoding='utf-8') as f:\n",
    "        for par in f.readlines():\n",
    "            kv = par.split('\\t')\n",
    "            if len(kv) == 2:\n",
    "                score = float(kv[1][:-1])                \n",
    "                if not math.isnan(score):\n",
    "                    parList.append((count, kv[0], float(kv[1][:-1])))\n",
    "                    count += 1\n",
    "\n",
    "    sortedParList = sorted(parList, key = lambda x: x[2], reverse = True)\n",
    "\n",
    "    auxResult = []\n",
    "    currentScore = 0\n",
    "    for pos, par, score in sortedParList:\n",
    "        auxResult.append((pos, par))\n",
    "        currentScore += score\n",
    "        if currentScore > minimumScore:\n",
    "            break\n",
    "            \n",
    "    result = sorted(auxResult, key = lambda x: x[0])\n",
    "    \n",
    "    return [i[1] for i in result]"
   ]
  },
  {
   "cell_type": "code",
   "execution_count": 21,
   "metadata": {
    "collapsed": false
   },
   "outputs": [],
   "source": [
    "r = sortAndChooseTop(ParFilename)"
   ]
  },
  {
   "cell_type": "code",
   "execution_count": 23,
   "metadata": {
    "collapsed": false
   },
   "outputs": [
    {
     "name": "stdout",
     "output_type": "stream",
     "text": [
      "O Brasil saltou da 13ª posição para a 7ª maior economia do mundo e a renda per capita mais que triplicou. A desigualdade caiu.\n",
      "Retomamos o investimento em infraestrutura numa forte parceria com o setor privado.\n",
      "O Arranjo Contingente de Reservas protegerá os países dos Brics de volatilidades financeiras.\n",
      "Em meio a tantas situações de conflito, a América Latina e o Caribe buscam enfrentar o principal problema que nos marcou, por séculos  – a desigualdade social. Fortalecem-se as raízes democráticas e firma-se a busca de um crescimento econômico mais justo, inclusivo e sustentável. Avançam os esforços de integração, por meio do Mercosul, da UNASUL e da CELAC.\n",
      "Estou certa de que não nos furtaremos a cumprir, com coragem, com  lucidez, nossas altas responsabilidades na construção de uma ordem internacional alicerçada na promoção da Paz, no desenvolvimento sustentável, na redução da pobreza e da desigualdade.  \n"
     ]
    }
   ],
   "source": [
    "for r1 in r:\n",
    "    print r1"
   ]
  },
  {
   "cell_type": "code",
   "execution_count": null,
   "metadata": {
    "collapsed": true
   },
   "outputs": [],
   "source": []
  }
 ],
 "metadata": {
  "kernelspec": {
   "display_name": "Python 2",
   "language": "python",
   "name": "python2"
  },
  "language_info": {
   "codemirror_mode": {
    "name": "ipython",
    "version": 2
   },
   "file_extension": ".py",
   "mimetype": "text/x-python",
   "name": "python",
   "nbconvert_exporter": "python",
   "pygments_lexer": "ipython2",
   "version": "2.7.11"
  }
 },
 "nbformat": 4,
 "nbformat_minor": 1
}
